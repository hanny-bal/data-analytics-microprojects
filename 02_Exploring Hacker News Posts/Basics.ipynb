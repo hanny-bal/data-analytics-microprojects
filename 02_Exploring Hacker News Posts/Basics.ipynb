{
 "cells": [
  {
   "cell_type": "markdown",
   "metadata": {
    "collapsed": true
   },
   "source": [
    "# Exploring Hacker News\n",
    "In this project, we will analyze the popular tech-news-site [Hacker News](https://news.ycombinator.com).\n",
    "\n",
    "Hacker News itself is an extremely popular website in technology and startup circles where users can post stories (a.k.a. \"posts\") which are commented upon and voted. It works just like [Reddit](https://www.reddit.com) with many posts even being referenced to it.\n",
    "\n",
    "For our analysis, we'll use [this dataset](https://www.kaggle.com/hacker-news/hacker-news-posts) from Kaggle which contains the posts between September 2015 and 2016. Note that it has been reduced from almost 300,000 rows to approximately 20,000 rows by removing all submissions that did not receive any comments, and then randomly sampling from the remaining submissions.\n",
    "\n",
    "Below are the descriptions of the columns:\n",
    "- 0 `id`: The unique identifier from Hacker News for the post\n",
    "- 1 `title`: The title of the post\n",
    "- 2 `url`: The URL that the posts links to, if it the post has a URL\n",
    "- 3 `num_points`: The number of points the post acquired, calculated as the total number of upvotes minus the total number of downvotes\n",
    "- 4 `num_comments`: The number of comments that were made on the post\n",
    "- 5 `author`: The username of the person who submitted the post \n",
    "- 6 `created_at`: The date and time at which the post was submitted\n",
    "\n",
    "## 1. Objectives\n",
    "We're specifically interested in posts whose titles begin with `Ask HN` or `Show HN`.\n",
    "- Users submit `Ask HN` posts to ask the community questions.\n",
    "- Users submit `Show HN` posts to show the community a project.\n",
    "\n",
    "We'll compare these two types of posts to dermine whether `Ask HN` or `Show HN` posts receive more comments on average and if posts created at a certain time receive more comments.\n",
    "\n",
    "## 2. Loading the data\n",
    "Our data is stored in `hacker_news.csv`, so let's use python to load the file and store in in a list."
   ]
  },
  {
   "cell_type": "code",
   "execution_count": 8,
   "metadata": {
    "scrolled": true
   },
   "outputs": [
    {
     "name": "stdout",
     "output_type": "stream",
     "text": [
      "Length of our dataset: 20100\n",
      "\n",
      "Header: ['id', 'title', 'url', 'num_points', 'num_comments', 'author', 'created_at']\n",
      "\n",
      "First few rows:\n",
      "['12224879', 'Interactive Dynamic Video', 'http://www.interactivedynamicvideo.com/', '386', '52', 'ne0phyte', '8/4/2016 11:52']\n",
      "['10975351', 'How to Use Open Source and Shut the Fuck Up at the Same Time', 'http://hueniverse.com/2016/01/26/how-to-use-open-source-and-shut-the-fuck-up-at-the-same-time/', '39', '10', 'josep2', '1/26/2016 19:30']\n",
      "['11964716', \"Florida DJs May Face Felony for April Fools' Water Joke\", 'http://www.thewire.com/entertainment/2013/04/florida-djs-april-fools-water-joke/63798/', '2', '1', 'vezycash', '6/23/2016 22:20']\n",
      "['11919867', 'Technology ventures: From Idea to Enterprise', 'https://www.amazon.com/Technology-Ventures-Enterprise-Thomas-Byers/dp/0073523429', '3', '1', 'hswarna', '6/17/2016 0:01']\n"
     ]
    }
   ],
   "source": [
    "from csv import reader\n",
    "opened_file = open(\"hacker_news.csv\")\n",
    "read_file = reader(opened_file)\n",
    "hacker_news_list = list(read_file)\n",
    "\n",
    "# split header and body\n",
    "hacker_news_header = hacker_news_list[0]\n",
    "hacker_news_data = hacker_news_list[1:]\n",
    "\n",
    "# print length and a few rows\n",
    "print(\"Length of our dataset:\", len(hacker_news_data))\n",
    "print(\"\\nHeader:\",hacker_news_header)\n",
    "print(\"\\nFirst few rows:\")\n",
    "for row in hacker_news_data[0:4]:\n",
    "    print(row)"
   ]
  },
  {
   "cell_type": "markdown",
   "metadata": {},
   "source": [
    "### 2.1. Seperating the posts\n",
    "Now with all of our data loaded, we need to seperate the posts beginning with either `Ask HN` or `Show HN` in all case varations."
   ]
  },
  {
   "cell_type": "code",
   "execution_count": 10,
   "metadata": {},
   "outputs": [
    {
     "name": "stdout",
     "output_type": "stream",
     "text": [
      "There are 1744 ask posts\n",
      "There are 1162 show posts\n",
      "There are 17194 other posts\n"
     ]
    }
   ],
   "source": [
    "ask_posts = []\n",
    "show_posts = []\n",
    "other_posts = []\n",
    "\n",
    "for row in hacker_news_data:\n",
    "    title = row[1].lower()\n",
    "    \n",
    "    if title.startswith('ask hn'):\n",
    "        ask_posts.append(row)\n",
    "    elif title.startswith('show hn'):\n",
    "        show_posts.append(row)\n",
    "    else:\n",
    "        other_posts.append(row)\n",
    "        \n",
    "print('There are {posts} ask posts'.format(posts=len(ask_posts)))\n",
    "print('There are {posts} show posts'.format(posts=len(show_posts)))\n",
    "print('There are {posts} other posts'.format(posts=len(other_posts)))"
   ]
  },
  {
   "cell_type": "markdown",
   "metadata": {},
   "source": [
    "## 3. Analysis\n",
    "With the prepared data, let's start our analysis.\n",
    "\n",
    "### 3.1. Comments on Ask- vs. Show-Posts\n",
    "As mentioned, we first want to determine whether ask or show posts receive more comments."
   ]
  },
  {
   "cell_type": "code",
   "execution_count": 13,
   "metadata": {},
   "outputs": [
    {
     "name": "stdout",
     "output_type": "stream",
     "text": [
      "Average number of comments on ask posts: 14.038417431192661\n",
      "Average number of comments on show posts: 10.31669535283993\n"
     ]
    }
   ],
   "source": [
    "# calculate average comments on ask posts\n",
    "total_ask_comments = 0\n",
    "\n",
    "for post in ask_posts:\n",
    "    num_comments = int(post[4])\n",
    "    total_ask_comments += num_comments\n",
    "\n",
    "avg_ask_comments = total_ask_comments / len(ask_posts)\n",
    "print(\"Average number of comments on ask posts:\", avg_ask_comments)\n",
    "\n",
    "# calculate average comments on show posts\n",
    "total_show_comments = 0\n",
    "\n",
    "for post in show_posts:\n",
    "    num_comments = int(post[4])\n",
    "    total_show_comments += num_comments\n",
    "\n",
    "avg_show_comments = total_show_comments / len(show_posts)\n",
    "print(\"Average number of comments on show posts:\", avg_show_comments)"
   ]
  },
  {
   "cell_type": "markdown",
   "metadata": {},
   "source": [
    "Ask posts (14 comments on average) clearly gather more comments than show posts - though show posts (10 comments on average) don't fall not short behind.\n",
    "\n",
    "### 3.2. Comments and time\n",
    "Next, we'll determine if posts created at a certain time are more likely to attract comments. Since we found that ask posts have more comments in general, we will focus on ask posts only for this analysis.\n",
    "\n",
    "To perform this analysis, we will:\n",
    "- Calculate the amount of ask posts created in each hour of the day, along with the number of comments received.\n",
    "- Calculate the average number of comments ask posts receive by hour created."
   ]
  },
  {
   "cell_type": "code",
   "execution_count": 33,
   "metadata": {},
   "outputs": [
    {
     "name": "stdout",
     "output_type": "stream",
     "text": [
      "Length of counts_by_hour: 24\n",
      "Length of comments_by_hour: 24\n"
     ]
    },
    {
     "data": {
      "text/plain": [
       "{'00': 447,\n",
       " '01': 683,\n",
       " '02': 1381,\n",
       " '03': 421,\n",
       " '04': 337,\n",
       " '05': 464,\n",
       " '06': 397,\n",
       " '07': 267,\n",
       " '08': 492,\n",
       " '09': 251,\n",
       " '10': 793,\n",
       " '11': 641,\n",
       " '12': 687,\n",
       " '13': 1253,\n",
       " '14': 1416,\n",
       " '15': 4477,\n",
       " '16': 1814,\n",
       " '17': 1146,\n",
       " '18': 1439,\n",
       " '19': 1188,\n",
       " '20': 1722,\n",
       " '21': 1745,\n",
       " '22': 479,\n",
       " '23': 543}"
      ]
     },
     "execution_count": 33,
     "metadata": {},
     "output_type": "execute_result"
    }
   ],
   "source": [
    "import datetime as dt\n",
    "result_list = []\n",
    "\n",
    "# gather base data\n",
    "for post in ask_posts:\n",
    "    created_at = post[6]\n",
    "    num_comments = int(post[4])\n",
    "    result_list.append([created_at, num_comments])\n",
    "\n",
    "# extract and assign times\n",
    "counts_by_hour = {}\n",
    "comments_by_hour = {}\n",
    "date_format = \"%m/%d/%Y %H:%M\"\n",
    "\n",
    "for row in result_list:\n",
    "    created_at = row[0]\n",
    "    num_comments = row[1]\n",
    "    created_at_date = dt.datetime.strptime(created_at,date_format)\n",
    "    created_at_hour = created_at_date.strftime(\"%H\")\n",
    "    \n",
    "    if created_at_hour not in counts_by_hour:\n",
    "        counts_by_hour[created_at_hour] = 1\n",
    "        comments_by_hour[created_at_hour] = num_comments\n",
    "    elif created_at_hour in counts_by_hour:\n",
    "        counts_by_hour[created_at_hour] += 1\n",
    "        comments_by_hour[created_at_hour] += num_comments\n",
    "\n",
    "# confirm we got this right\n",
    "print(\"Length of counts_by_hour:\",len(counts_by_hour))\n",
    "print(\"Length of comments_by_hour:\",len(comments_by_hour))\n",
    "\n",
    "comments_by_hour"
   ]
  },
  {
   "cell_type": "markdown",
   "metadata": {},
   "source": [
    "Next, we need to calculate the average amount of comments per hour."
   ]
  },
  {
   "cell_type": "code",
   "execution_count": 36,
   "metadata": {
    "scrolled": false
   },
   "outputs": [
    {
     "data": {
      "text/plain": [
       "[['02', 23.810344827586206],\n",
       " ['22', 6.746478873239437],\n",
       " ['21', 16.009174311926607],\n",
       " ['08', 10.25],\n",
       " ['11', 11.051724137931034],\n",
       " ['01', 11.383333333333333],\n",
       " ['00', 8.127272727272727],\n",
       " ['05', 10.08695652173913],\n",
       " ['14', 13.233644859813085],\n",
       " ['17', 11.46],\n",
       " ['07', 7.852941176470588],\n",
       " ['13', 14.741176470588234],\n",
       " ['23', 7.985294117647059],\n",
       " ['10', 13.440677966101696],\n",
       " ['12', 9.41095890410959],\n",
       " ['16', 16.796296296296298],\n",
       " ['20', 21.525],\n",
       " ['06', 9.022727272727273],\n",
       " ['09', 5.5777777777777775],\n",
       " ['04', 7.170212765957447],\n",
       " ['15', 38.5948275862069],\n",
       " ['19', 10.8],\n",
       " ['18', 13.20183486238532],\n",
       " ['03', 7.796296296296297]]"
      ]
     },
     "execution_count": 36,
     "metadata": {},
     "output_type": "execute_result"
    }
   ],
   "source": [
    "avg_comments_by_hour = []\n",
    "\n",
    "for hour in counts_by_hour:\n",
    "    avg_comments = comments_by_hour[hour] / counts_by_hour[hour]\n",
    "    avg_comments_by_hour.append([hour, avg_comments])\n",
    "    \n",
    "avg_comments_by_hour"
   ]
  },
  {
   "cell_type": "markdown",
   "metadata": {},
   "source": [
    "Before we can make a conclusion, we need to sort the list of average values in order to gain a clearer insight."
   ]
  },
  {
   "cell_type": "code",
   "execution_count": 37,
   "metadata": {},
   "outputs": [
    {
     "data": {
      "text/plain": [
       "[[23.810344827586206, '02'],\n",
       " [6.746478873239437, '22'],\n",
       " [16.009174311926607, '21'],\n",
       " [10.25, '08'],\n",
       " [11.051724137931034, '11'],\n",
       " [11.383333333333333, '01'],\n",
       " [8.127272727272727, '00'],\n",
       " [10.08695652173913, '05'],\n",
       " [13.233644859813085, '14'],\n",
       " [11.46, '17'],\n",
       " [7.852941176470588, '07'],\n",
       " [14.741176470588234, '13'],\n",
       " [7.985294117647059, '23'],\n",
       " [13.440677966101696, '10'],\n",
       " [9.41095890410959, '12'],\n",
       " [16.796296296296298, '16'],\n",
       " [21.525, '20'],\n",
       " [9.022727272727273, '06'],\n",
       " [5.5777777777777775, '09'],\n",
       " [7.170212765957447, '04'],\n",
       " [38.5948275862069, '15'],\n",
       " [10.8, '19'],\n",
       " [13.20183486238532, '18'],\n",
       " [7.796296296296297, '03']]"
      ]
     },
     "execution_count": 37,
     "metadata": {},
     "output_type": "execute_result"
    }
   ],
   "source": [
    "# swap the columns first\n",
    "swap_avg_by_hour = []\n",
    "\n",
    "for row in avg_comments_by_hour:\n",
    "    swap_avg_by_hour.append([row[1], row[0]])\n",
    "    \n",
    "swap_avg_by_hour"
   ]
  },
  {
   "cell_type": "code",
   "execution_count": 42,
   "metadata": {
    "scrolled": true
   },
   "outputs": [
    {
     "name": "stdout",
     "output_type": "stream",
     "text": [
      "Top 5 Hours for Ask Post Comments\n",
      "15:00: 38.59 average comments per post\n",
      "02:00: 23.81 average comments per post\n",
      "20:00: 21.52 average comments per post\n",
      "16:00: 16.80 average comments per post\n",
      "21:00: 16.01 average comments per post\n"
     ]
    }
   ],
   "source": [
    "# sort in a descending order\n",
    "sorted_swap = sorted(swap_avg_by_hour, reverse=True)\n",
    "\n",
    "print(\"Top 5 Hours for Ask Post Comments\")\n",
    "sorted_output_dummy = \"{time}: {post_count:.2f} average comments per post\"\n",
    "for row in sorted_swap[0:5]:\n",
    "    time = dt.datetime.strptime(row[1],\"%H\").strftime(\"%H:%M\")\n",
    "    post_count = row[0]\n",
    "    print(sorted_output_dummy.format(time=time,post_count=post_count))"
   ]
  },
  {
   "cell_type": "markdown",
   "metadata": {},
   "source": [
    "Since the data time uses Eastern Time in the US, we can determine that the best times to post ask posts on Hacker News in the Vienna Time Zone (+6hrs) are: 21:00h, 08:00h, 02:00h, 22:00h and 03:00h in this order."
   ]
  },
  {
   "cell_type": "markdown",
   "metadata": {},
   "source": [
    "## 4. Conclusion\n",
    "In this project, we analyzed ask and show posts on the Hacker News community. We tried to figure out which posts receive the most comments and at which our they do. Based on the results, we recommend posting an ask post at 21:00h  CEST or 15:00h EST. \n",
    "\n",
    "What has to be noted though is that the dataset excludes all posts that haven't received any comments. Thus the result only apply to those, who do receive comments."
   ]
  }
 ],
 "metadata": {
  "kernelspec": {
   "display_name": "Python 3",
   "language": "python",
   "name": "python3"
  },
  "language_info": {
   "codemirror_mode": {
    "name": "ipython",
    "version": 3
   },
   "file_extension": ".py",
   "mimetype": "text/x-python",
   "name": "python",
   "nbconvert_exporter": "python",
   "pygments_lexer": "ipython3",
   "version": "3.8.3"
  }
 },
 "nbformat": 4,
 "nbformat_minor": 2
}
